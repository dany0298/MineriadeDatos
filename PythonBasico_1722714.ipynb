{
 "cells": [
  {
   "cell_type": "markdown",
   "metadata": {},
   "source": [
    "### Ejercicio 1"
   ]
  },
  {
   "cell_type": "markdown",
   "metadata": {},
   "source": [
    "Realiza una variable con tu matricula y realiza una secuencia de imprimir con tu nombre y tu matricula concatenados."
   ]
  },
  {
   "cell_type": "code",
   "execution_count": 62,
   "metadata": {},
   "outputs": [
    {
     "data": {
      "text/plain": [
       "('Daniela Govea', 1722714)"
      ]
     },
     "execution_count": 62,
     "metadata": {},
     "output_type": "execute_result"
    }
   ],
   "source": [
    "mat=1722714\n",
    "tu=(\"Daniela Govea\",mat)\n",
    "tu"
   ]
  },
  {
   "cell_type": "markdown",
   "metadata": {},
   "source": [
    "### Ejercicio 2\n",
    "\n",
    "Pidiendo el input del usuario pide dos números y crea una pequeña calculadora con los operadores básicos de suma, resta, multiplicación, división, y exponente."
   ]
  },
  {
   "cell_type": "code",
   "execution_count": 67,
   "metadata": {},
   "outputs": [
    {
     "name": "stdout",
     "output_type": "stream",
     "text": [
      "Introduce un número:10\n",
      "Introduce otro número: 2\n",
      "CALCULADORA\n",
      "Suma:  12\n",
      "Resta:  8\n",
      "Multiplicacion:  20\n",
      "Division:  5.0\n",
      "Exponente:  100\n"
     ]
    }
   ],
   "source": [
    "a1 = int(input(\"Introduce un número:\" ))\n",
    "b1 = int(input(\"Introduce otro número: \"))\n",
    "print (\"CALCULADORA\")\n",
    "print (\"Suma: \", a1+b1)\n",
    "print (\"Resta: \", a1-b1)\n",
    "print (\"Multiplicacion: \", a1*b1)\n",
    "print (\"Division: \", a1/b1)\n",
    "print (\"Exponente: \", a1**b1)"
   ]
  },
  {
   "cell_type": "markdown",
   "metadata": {},
   "source": [
    "### Ejercicio 3\n",
    "\n",
    "Con loop while o for, realiza una lista de 10 numeros multiplos de 3, y después realiza una función de loop que sume todos los números dentro del arreglo.\n"
   ]
  },
  {
   "cell_type": "code",
   "execution_count": 74,
   "metadata": {},
   "outputs": [
    {
     "name": "stdout",
     "output_type": "stream",
     "text": [
      "lista: [3, 3, 24, 9, 27, 27, 15, 30, 15, 6]\n",
      "\n",
      "SUMA 159\n"
     ]
    }
   ],
   "source": [
    "li=[]\n",
    "for i in range(10):\n",
    "    li.append(3*random.randint(1, 10))\n",
    "print (\"lista:\" ,li)\n",
    "\n",
    "sumali=0\n",
    "for j in range(10):\n",
    "    sumali=sumali + li[j]\n",
    "print(\"\")\n",
    "print(\"SUMA\", sumali)"
   ]
  },
  {
   "cell_type": "markdown",
   "metadata": {},
   "source": [
    "### Ejercicio 4\n",
    "\n",
    "- Con una función de if else, revisar si un número es par o es impar.\n"
   ]
  },
  {
   "cell_type": "code",
   "execution_count": 176,
   "metadata": {},
   "outputs": [
    {
     "name": "stdout",
     "output_type": "stream",
     "text": [
      "Introduce un número: 10\n",
      "El numero  10  es par\n"
     ]
    }
   ],
   "source": [
    "import math\n",
    "\n",
    "numero = int(input(\"Introduce un número: \" ))\n",
    "resto= numero % 2\n",
    "\n",
    "\n",
    "if resto == 0:\n",
    "    print (\"El numero \", numero, \" es par\")\n",
    "else :\n",
    "    print(\"El numero \", numero, \" es impar\")\n",
    "    "
   ]
  },
  {
   "cell_type": "markdown",
   "metadata": {},
   "source": [
    "- Con una función de if else, revisar si un número es primo o no."
   ]
  },
  {
   "cell_type": "code",
   "execution_count": 150,
   "metadata": {},
   "outputs": [
    {
     "name": "stdout",
     "output_type": "stream",
     "text": [
      "Introduce un número: 7\n",
      "El numero  7  es primo\n"
     ]
    }
   ],
   "source": [
    "import math\n",
    "\n",
    "numero = int(input(\"Introduce un número: \" ))    \n",
    "contador =0\n",
    "verificar= False    \n",
    "for i in range (1, numero+1):\n",
    "    if (numero%i)==0:\n",
    "        contador = contador +1\n",
    "    if (contador >= 3):\n",
    "        verificar= True\n",
    "        break\n",
    "\n",
    "if (contador==2 or verficar==False):\n",
    "    print (\"El numero \",numero,\" es primo\")\n",
    "else:\n",
    "    print(\"El numero \", numero, \"no es primo\")"
   ]
  },
  {
   "cell_type": "code",
   "execution_count": null,
   "metadata": {},
   "outputs": [],
   "source": [
    "http://pharalax.com/blog/python-saber-si-un-numero-es-primo/"
   ]
  },
  {
   "cell_type": "markdown",
   "metadata": {},
   "source": [
    "### Ejercicio 5\n",
    "\n",
    "Utilizando diferentes clases en python, crea una calculadora con los operadores básicos de suma, resta, multiplicación, división, y exponente."
   ]
  },
  {
   "cell_type": "code",
   "execution_count": 105,
   "metadata": {},
   "outputs": [
    {
     "name": "stdout",
     "output_type": "stream",
     "text": [
      " \n",
      "1.CALCULADORA\n",
      "Suma \n",
      "Resta \n",
      "Multiplicacion \n",
      "Division \n",
      "Exponente \n",
      " \n",
      "2. SALIR\n",
      " \n",
      "Introduce tu opcion: 1\n",
      "Ingrese el primer numero: 12\n",
      "Ingrese el segundo numero: 3\n",
      " \n",
      "La suma de 12  y  3  es :  15\n",
      "La resta de 12  y  3  es :  9\n",
      "La multiplicacion de 12  y  3  es :  36\n",
      "La division de 12  y  3  es :  4.0\n",
      "El resultado de 12  elvado a la 3  es :  1728\n",
      " \n",
      " \n",
      "1.CALCULADORA\n",
      "Suma \n",
      "Resta \n",
      "Multiplicacion \n",
      "Division \n",
      "Exponente \n",
      " \n",
      "2. SALIR\n",
      " \n",
      "Introduce tu opcion: 2\n"
     ]
    }
   ],
   "source": [
    "def sumar(x,y):\n",
    "    print(\"La suma de\", str(x), \" y \",str(y), \" es : \", str(x+y)  )\n",
    "def restar(x,y):\n",
    "    print(\"La resta de\", str(x), \" y \",str(y), \" es : \", str(x-y)  )\n",
    "def multiplicar(x,y):\n",
    "    print(\"La multiplicacion de\", str(x), \" y \",str(y), \" es : \", str(x*y)  )\n",
    "def dividir(x,y):\n",
    "    print(\"La division de\", str(x), \" y \",str(y), \" es : \", str(x/y)  )\n",
    "def exponente(x,y):\n",
    "    print(\"El resultado de\", str(x), \" elvado a la\",str(y), \" es : \", str(x**y)  )\n",
    "def menu():\n",
    "    print(\" \")\n",
    "    print (\"1.CALCULADORA\")\n",
    "    print (\"Suma \")\n",
    "    print (\"Resta \")\n",
    "    print (\"Multiplicacion \")\n",
    "    print (\"Division \")\n",
    "    print (\"Exponente \")\n",
    "    print(\" \")\n",
    "    print (\"2. SALIR\")\n",
    "    print(\" \")\n",
    "\n",
    "    return int(input(\"Introduce tu opcion: \"))\n",
    "    print(\" \")\n",
    "\n",
    "\n",
    "\n",
    "while (True):\n",
    "    opcion= menu()\n",
    "    if (opcion==2):\n",
    "        break\n",
    "    else:\n",
    "        num1=int(input(\"Ingrese el primer numero: \"))\n",
    "        num2=int(input(\"Ingrese el segundo numero: \"))\n",
    "        print(\" \")\n",
    "        sumar(num1,num2)\n",
    "        restar(num1,num2)\n",
    "        multiplicar(num1,num2)\n",
    "        dividir(num1,num2)\n",
    "        exponente(num1,num2)\n",
    "        print(\" \")\n",
    "\n",
    "\n",
    "                \n",
    "    \n",
    "    "
   ]
  },
  {
   "cell_type": "code",
   "execution_count": 103,
   "metadata": {},
   "outputs": [],
   "source": [
    "#https://www.youtube.com/watch?v=hO5Cc1sQfMg"
   ]
  },
  {
   "cell_type": "markdown",
   "metadata": {},
   "source": [
    "### Tuplas"
   ]
  },
  {
   "cell_type": "markdown",
   "metadata": {},
   "source": [
    "- Crear una variable flotante, integer, boleana y compleja e imprimir el tipo de variable que es."
   ]
  },
  {
   "cell_type": "code",
   "execution_count": 152,
   "metadata": {},
   "outputs": [
    {
     "name": "stdout",
     "output_type": "stream",
     "text": [
      "<class 'float'>\n",
      "<class 'int'>\n",
      "<class 'bool'>\n",
      "<class 'complex'>\n"
     ]
    }
   ],
   "source": [
    "f= 3.65\n",
    "i=60\n",
    "b= True\n",
    "c= 8+3j\n",
    "\n",
    "print(type(f))\n",
    "print(type(i))\n",
    "print(type(b))\n",
    "print(type(c))"
   ]
  },
  {
   "cell_type": "markdown",
   "metadata": {},
   "source": [
    "- Crear una tupla con valores enteros imprimir el primer y ultimo valor.\n"
   ]
  },
  {
   "cell_type": "code",
   "execution_count": 120,
   "metadata": {},
   "outputs": [
    {
     "name": "stdout",
     "output_type": "stream",
     "text": [
      "TUPLA: (1, 5, 65, 75, 3, 2, 45)\n",
      "Primer valor: 1\n",
      "Ultimo valor: 45\n"
     ]
    }
   ],
   "source": [
    "t1=(1,5,65,75,3,2,45)\n",
    "print(\"TUPLA:\" , t1)\n",
    "print(\"Primer valor:\", t1[0])\n",
    "ul=len(t1)\n",
    "print(\"Ultimo valor:\",t1[ul-1])"
   ]
  },
  {
   "cell_type": "markdown",
   "metadata": {},
   "source": [
    "- Añadir 3 valores de string a la tupla."
   ]
  },
  {
   "cell_type": "code",
   "execution_count": 121,
   "metadata": {},
   "outputs": [
    {
     "name": "stdout",
     "output_type": "stream",
     "text": [
      "(1, 5, 65, 75, 3, 2, 45, 'D', 'G', 'S')\n"
     ]
    }
   ],
   "source": [
    " t1 = t1.__add__((\"D\",\"G\",\"S\"))\n",
    "print(t1)"
   ]
  },
  {
   "cell_type": "markdown",
   "metadata": {},
   "source": [
    "- Verificar si una variable existe dentro de la tupla."
   ]
  },
  {
   "cell_type": "code",
   "execution_count": 116,
   "metadata": {},
   "outputs": [
    {
     "data": {
      "text/plain": [
       "True"
      ]
     },
     "execution_count": 116,
     "metadata": {},
     "output_type": "execute_result"
    }
   ],
   "source": [
    "5 in t1"
   ]
  },
  {
   "cell_type": "markdown",
   "metadata": {},
   "source": [
    "### Listas"
   ]
  },
  {
   "cell_type": "markdown",
   "metadata": {},
   "source": [
    "- Crear una lista con 40 elementos aleatorios enteros."
   ]
  },
  {
   "cell_type": "code",
   "execution_count": 163,
   "metadata": {},
   "outputs": [
    {
     "name": "stdout",
     "output_type": "stream",
     "text": [
      "lista: [59, 172, 7, 132, 125, 131, 64, 95, 89, 32, 72, 173, 193, 76, 91, 200, 181, 116, 184, 137, 163, 21, 11, 118, 23, 109, 50, 164, 65, 92, 37, 129, 166, 119, 168, 91, 122, 20, 183, 169]\n"
     ]
    }
   ],
   "source": [
    "lis = [] \n",
    "for i in range(0,40): \n",
    "    lis.append(random.randint(1, 200))\n",
    "print (\"lista:\" ,lis)"
   ]
  },
  {
   "cell_type": "markdown",
   "metadata": {},
   "source": [
    "- Con una funcion (def) crear dos listas nuevas a partir de la lista creada por numeros aleatorios, en la cual en una esten los elementos pares, y en la otra los elementos impares."
   ]
  },
  {
   "cell_type": "code",
   "execution_count": 164,
   "metadata": {},
   "outputs": [
    {
     "name": "stdout",
     "output_type": "stream",
     "text": [
      "Lista con elementos pares: [30, 4, 30, 10, 2, 60, 18, 58, 8, 34, 26, 20, 32, 20, 2, 30, 34, 58, 46, 24, 46, 52, 8]\n",
      " \n",
      "Lista con elementos impares: [35, 31, 37, 13, 17, 55, 45, 55, 13, 41, 13, 39, 25, 43, 21, 9, 5, 9, 1, 49, 39, 15, 13, 37, 41, 11, 15]\n"
     ]
    }
   ],
   "source": [
    "l1=[]\n",
    "for i in range (0,50):\n",
    "    l1.append(random.randint(1,60))\n",
    "    \n",
    "def resto(lis):\n",
    "    lpar=[]\n",
    "    limpar=[]\n",
    "    for i in lis:\n",
    "        divi= i % 2\n",
    "        if divi == 0:\n",
    "            lpar.append(i)\n",
    "        else :\n",
    "            limpar.append(i)\n",
    "    print(\"Lista con elementos pares:\" ,lpar)\n",
    "    print(\" \")\n",
    "    print(\"Lista con elementos impares:\" ,limpar)\n",
    "    \n",
    "resto(l1)"
   ]
  },
  {
   "cell_type": "markdown",
   "metadata": {},
   "source": [
    "- Crear dos variables con la longitud de ambas listas nuevas e imprimir las variables."
   ]
  },
  {
   "cell_type": "code",
   "execution_count": 157,
   "metadata": {},
   "outputs": [
    {
     "name": "stdout",
     "output_type": "stream",
     "text": [
      "# de elementos pares:  25\n",
      "# de elementos impares:  25\n"
     ]
    }
   ],
   "source": [
    "\n",
    "lpar= [48, 46, 54, 54, 8, 12, 18, 2, 4, 36, 50, 58, 44, 54, 28, 6, 2, 18, 8, 56, 40, 58, 50, 60, 40]\n",
    "limpar= [53, 47, 59, 45, 37, 55, 53, 43, 29, 29, 57, 55, 27, 51, 41, 11, 39, 37, 37, 11, 47, 3, 41, 1, 33]\n",
    "\n",
    "p=len(lpar)\n",
    "i=len(limpar)\n",
    "print(\"# de elementos pares: \",p)\n",
    "print(\"# de elementos impares: \",i)"
   ]
  },
  {
   "cell_type": "markdown",
   "metadata": {},
   "source": [
    "- Ordenar los elementos de la lista par de mayor a menor, y los de la lista impar de menor a mayor."
   ]
  },
  {
   "cell_type": "code",
   "execution_count": 165,
   "metadata": {},
   "outputs": [
    {
     "name": "stdout",
     "output_type": "stream",
     "text": [
      "Pares ordenados: [2, 2, 4, 6, 8, 8, 12, 18, 18, 28, 36, 40, 40, 44, 46, 48, 50, 50, 54, 54, 54, 56, 58, 58, 60]\n",
      " \n",
      " \n",
      "Impares ordenados [1, 3, 11, 11, 27, 29, 29, 33, 37, 37, 37, 39, 41, 41, 43, 45, 47, 47, 51, 53, 53, 55, 55, 57, 59]\n"
     ]
    }
   ],
   "source": [
    "\n",
    "lpar= [48, 46, 54, 54, 8, 12, 18, 2, 4, 36, 50, 58, 44, 54, 28, 6, 2, 18, 8, 56, 40, 58, 50, 60, 40]\n",
    "limpar= [53, 47, 59, 45, 37, 55, 53, 43, 29, 29, 57, 55, 27, 51, 41, 11, 39, 37, 37, 11, 47, 3, 41, 1, 33]\n",
    "\n",
    "lparo=sorted(lpar)\n",
    "print(\"Pares ordenados:\", lparo)\n",
    "print(\" \")\n",
    "limparo=sorted(limpar)\n",
    "print(\" \")\n",
    "print(\"Impares ordenados\",limparo)"
   ]
  },
  {
   "cell_type": "markdown",
   "metadata": {},
   "source": [
    "- Utilizar al menos cuatro de las funciones de listas en python en la lista original de 40 elementos."
   ]
  },
  {
   "cell_type": "code",
   "execution_count": 175,
   "metadata": {},
   "outputs": [
    {
     "name": "stdout",
     "output_type": "stream",
     "text": [
      "Numero de elementos en la lista: \n",
      "40\n",
      "37\n",
      "Lista con dato agregado\n",
      "[169, 183, 20, 122, 91, 168, 119, 166, 129, 37, 92, 65, 164, 50, 109, 23, 118, 11, 21, 163, 137, 184, 116, 181, 200, 91, 76, 193, 173, 72, 32, 89, 95, 64, 131, 125, 132, 7, 172, 59, 8]\n",
      "Numero de elementos en la lista nueva: \n",
      "41\n",
      "Mostrar solo datos señalados: \n",
      "[119, 166, 129, 37, 92, 65, 164, 50, 109]\n"
     ]
    }
   ],
   "source": [
    "lo= [59, 172, 7, 132, 125, 131, 64, 95, 89, 32, 72, 173, 193, 76, 91, 200, 181, 116, 184, 137, 163, 21, 11, 118, 23, 109, 50, 164, 65, 92, 37, 129, 166, 119, 168, 91, 122, 20, 183, 169]\n",
    "lo.reverse()\n",
    "print(\"Numero de elementos en la lista: \")\n",
    "print(len(lo))\n",
    "print(lo.index(7))\n",
    "print(\"Lista con dato agregado\")\n",
    "lo.append(8)\n",
    "print(lo)\n",
    "print(\"Numero de elementos en la lista nueva: \")\n",
    "print(len(lo))\n",
    "print(\"Mostrar solo datos señalados: \")\n",
    "print(lo[6:15])\n"
   ]
  },
  {
   "cell_type": "markdown",
   "metadata": {},
   "source": [
    "### Diccionarios "
   ]
  },
  {
   "cell_type": "markdown",
   "metadata": {},
   "source": [
    "- Crear un diccionario de 6 personas que conozcas con su primer nombre y su edad."
   ]
  },
  {
   "cell_type": "code",
   "execution_count": 159,
   "metadata": {},
   "outputs": [
    {
     "data": {
      "text/plain": [
       "{'Daniela': 21,\n",
       " 'Valeria': 20,\n",
       " 'Mau': 20,\n",
       " 'Barbie': 18,\n",
       " 'David': 25,\n",
       " 'Andrea': 15}"
      ]
     },
     "execution_count": 159,
     "metadata": {},
     "output_type": "execute_result"
    }
   ],
   "source": [
    "d={\"Daniela\":21, \"Valeria\":20, \"Mau\":20, \"Barbie\":18, \"David\":25, \"Andrea\":15}\n",
    "d"
   ]
  },
  {
   "cell_type": "markdown",
   "metadata": {},
   "source": [
    "- Crear una lista con los valores de la edad y reacomodar la lista de menor a mayor valor. "
   ]
  },
  {
   "cell_type": "code",
   "execution_count": 160,
   "metadata": {},
   "outputs": [
    {
     "data": {
      "text/plain": [
       "[15, 18, 20, 20, 21, 25]"
      ]
     },
     "execution_count": 160,
     "metadata": {},
     "output_type": "execute_result"
    }
   ],
   "source": [
    "e=[i for i in dic.values()]\n",
    "e.sort()\n",
    "e"
   ]
  },
  {
   "cell_type": "markdown",
   "metadata": {},
   "source": [
    "- Usando el diccionario y un loop, imprimir solo los nombres."
   ]
  },
  {
   "cell_type": "code",
   "execution_count": 161,
   "metadata": {},
   "outputs": [
    {
     "name": "stdout",
     "output_type": "stream",
     "text": [
      "Daniela\n",
      "Valeria\n",
      "Mau\n",
      "Barbie\n",
      "David\n",
      "Andrea\n"
     ]
    }
   ],
   "source": [
    "for i in d:\n",
    "    print(i)"
   ]
  },
  {
   "cell_type": "markdown",
   "metadata": {},
   "source": [
    "- Añadir dos personas nuevas a tu diccionario, incluyendo edad."
   ]
  },
  {
   "cell_type": "code",
   "execution_count": 162,
   "metadata": {},
   "outputs": [
    {
     "data": {
      "text/plain": [
       "{'Daniela': 21,\n",
       " 'Valeria': 20,\n",
       " 'Mau': 20,\n",
       " 'Barbie': 18,\n",
       " 'David': 25,\n",
       " 'Andrea': 15,\n",
       " 'Alma': 50,\n",
       " 'Yola': 45}"
      ]
     },
     "execution_count": 162,
     "metadata": {},
     "output_type": "execute_result"
    }
   ],
   "source": [
    "d[\"Alma\"]=50\n",
    "d[\"Yola\"]=45\n",
    "d"
   ]
  },
  {
   "cell_type": "markdown",
   "metadata": {},
   "source": [
    "### Sets"
   ]
  },
  {
   "cell_type": "markdown",
   "metadata": {},
   "source": [
    "- Crea un set con 100 numeros aleatorios enteros del 1 al 25."
   ]
  },
  {
   "cell_type": "code",
   "execution_count": 58,
   "metadata": {},
   "outputs": [
    {
     "name": "stdout",
     "output_type": "stream",
     "text": [
      "lista: [23, 14, 5, 15, 10, 7, 16, 14, 5, 22, 15, 19, 24, 18, 25, 7, 17, 18, 18, 6, 1, 20, 20, 12, 25, 12, 6, 4, 1, 24, 18, 12, 15, 17, 15, 23, 17, 24, 1, 12, 5, 23, 25, 24, 13, 5, 16, 5, 10, 16, 3, 18, 23, 2, 3, 9, 24, 2, 25, 15, 22, 4, 10, 15, 14, 3, 11, 6, 1, 11, 3, 21, 3, 24, 16, 11, 7, 15, 17, 7, 11, 8, 1, 6, 16, 25, 22, 5, 18, 7, 24, 15, 6, 18, 14, 1, 20, 20, 22, 16]\n"
     ]
    }
   ],
   "source": [
    "listOfNumbers = [] \n",
    "for i in range(0,100): \n",
    "    listOfNumbers.append(random.randint(1, 25))\n",
    "print (\"lista:\" ,listOfNumbers)\n",
    "\n"
   ]
  },
  {
   "cell_type": "code",
   "execution_count": 59,
   "metadata": {},
   "outputs": [
    {
     "name": "stdout",
     "output_type": "stream",
     "text": [
      "set:  {1, 2, 3, 4, 5, 6, 7, 8, 9, 10, 11, 12, 13, 14, 15, 16, 17, 18, 19, 20, 21, 22, 23, 24, 25}\n"
     ]
    }
   ],
   "source": [
    "setOfNumbers = set()\n",
    "for i in range(0,100):\n",
    "    setOfNumbers.add(listOfNumbers[i])\n",
    "print (\"set: \", setOfNumbers)"
   ]
  },
  {
   "cell_type": "markdown",
   "metadata": {},
   "source": [
    "Los sets no contienen numeros que se repiten"
   ]
  },
  {
   "cell_type": "code",
   "execution_count": null,
   "metadata": {},
   "outputs": [],
   "source": [
    "#https://stackoverrun.com/es/q/6253098"
   ]
  },
  {
   "cell_type": "markdown",
   "metadata": {},
   "source": [
    "- Comprueba la longitud de tu set."
   ]
  },
  {
   "cell_type": "code",
   "execution_count": 60,
   "metadata": {},
   "outputs": [
    {
     "name": "stdout",
     "output_type": "stream",
     "text": [
      "Longitud del set:  25\n"
     ]
    }
   ],
   "source": [
    "print(\"Longitud del set: \" ,len(setOfNumbers))"
   ]
  },
  {
   "cell_type": "markdown",
   "metadata": {},
   "source": [
    "- Crea una lista de 5 numeros aleatorios del 1 al 10 y comprueba si cada valor aparece en el set inicial."
   ]
  },
  {
   "cell_type": "code",
   "execution_count": 44,
   "metadata": {},
   "outputs": [
    {
     "name": "stdout",
     "output_type": "stream",
     "text": [
      "Lista: [3, 7, 1, 7, 9]\n",
      "Numero 3 si esta en el set\n",
      "Numero 7 si esta en el set\n",
      "Numero 1 si esta en el set\n",
      "Numero 7 si esta en el set\n",
      "Numero 9 si esta en el set\n"
     ]
    }
   ],
   "source": [
    "lista1=[]\n",
    "for i in range(0,5): \n",
    "    lista1.append(random.randint(1, 10))\n",
    "print ( \"Lista:\", lista1)\n",
    "for i in range(0,5):\n",
    "    if lista1[i] in setOfNumbers:\n",
    "        print (\"Numero\", lista1[i], \"si esta en el set\")\n",
    "    else:\n",
    "         print (\"Numero\", lista1[i], \"no esta en el set\")"
   ]
  }
 ],
 "metadata": {
  "kernelspec": {
   "display_name": "Python 3",
   "language": "python",
   "name": "python3"
  },
  "language_info": {
   "codemirror_mode": {
    "name": "ipython",
    "version": 3
   },
   "file_extension": ".py",
   "mimetype": "text/x-python",
   "name": "python",
   "nbconvert_exporter": "python",
   "pygments_lexer": "ipython3",
   "version": "3.8.3"
  }
 },
 "nbformat": 4,
 "nbformat_minor": 4
}
